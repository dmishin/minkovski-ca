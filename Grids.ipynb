{
 "cells": [
  {
   "cell_type": "code",
   "execution_count": 1,
   "metadata": {},
   "outputs": [],
   "source": [
    "%matplotlib inline\n",
    "import numpy as np\n",
    "import matplotlib.pyplot as plt\n",
    "plt.rcParams[\"figure.figsize\"] = (9,9)"
   ]
  },
  {
   "cell_type": "markdown",
   "metadata": {},
   "source": [
    "HTML [Demo app](demo.html)"
   ]
  },
  {
   "cell_type": "markdown",
   "metadata": {},
   "source": [
    "# Lattice invariants and quadratic forms\n",
    "\n",
    "Let $x\\rightarrow Mx$ transform is a lattice invariant (i.e. $M$ is integer, and $\\det(M)=1$).\n",
    "\n",
    "Then how to find equation $x'Ax = 1$ that is unchagned by it? Matrix $A$ must satisfy:\n",
    "\n",
    "$$ M'AM=A $$\n",
    "\n",
    "This is Lyapunov equation"
   ]
  },
  {
   "cell_type": "markdown",
   "metadata": {},
   "source": [
    "Using Maxima, the following solution was obtained:\n",
    "$$ A = \\left(\\begin{matrix}\n",
    "  2 c & d-a\\\\\n",
    "  d-a & -2 b\n",
    "\\end{matrix}\\right) $$\n",
    "\n",
    "where\n",
    "\n",
    "$$ M=\\left(\\begin{matrix}a & b \\\\ c & d\\end{matrix}\\right) $$."
   ]
  },
  {
   "cell_type": "code",
   "execution_count": 2,
   "metadata": {},
   "outputs": [],
   "source": [
    "def tfm2qform(m):\n",
    "    \"\"\"Convert identity transofrm to quadratic form matrix, simpler implementation\"\"\"\n",
    "    (a,b),(c,d) = m\n",
    "    return np.array([[2*c,d-a],[d-a, -2*b]])"
   ]
  },
  {
   "cell_type": "code",
   "execution_count": 3,
   "metadata": {},
   "outputs": [
    {
     "data": {
      "text/plain": [
       "array([[ 2, -1],\n",
       "       [-1, -2]])"
      ]
     },
     "execution_count": 3,
     "metadata": {},
     "output_type": "execute_result"
    }
   ],
   "source": [
    "tfm2qform([[2,1],[1,1]])"
   ]
  },
  {
   "cell_type": "markdown",
   "metadata": {},
   "source": [
    "Maxima code:\n",
    "```m:matrix([a,b],[c,d]);\n",
    "aa:matrix([x,y],[y,z]);\n",
    "mam : ratsimp(transpose(m).aa.m);\n",
    "zz: mam - aa*determinant(m);\n",
    "ss:solve([zz[1,1],zz[1,2],zz[2,2]],[x,y,z]);\n",
    "subst(%r2=1,subst(ss[1], aa)*2*c);\n",
    "```"
   ]
  },
  {
   "cell_type": "code",
   "execution_count": 4,
   "metadata": {},
   "outputs": [],
   "source": [
    "def lattice(v,n=5, show=True):\n",
    "    x = np.linspace(-n,n,n*2+1)\n",
    "    xx,yy = np.meshgrid(x,x)\n",
    "    ppp = np.stack((xx.ravel(),yy.ravel()))\n",
    "    vvv = np.dot(v, ppp)\n",
    "    plt.plot(vvv[0,:],vvv[1,:],\"bo\")\n",
    "    show and plt.show()\n"
   ]
  },
  {
   "cell_type": "code",
   "execution_count": 5,
   "metadata": {},
   "outputs": [
    {
     "data": {
      "image/png": "[encoded data removed]",
      "text/plain": [
       "<Figure size 432x288 with 1 Axes>"
      ]
     },
     "metadata": {
      "needs_background": "light"
     },
     "output_type": "display_data"
    }
   ],
   "source": [
    "lattice([[2,1],[1,1]])"
   ]
  },
  {
   "cell_type": "markdown",
   "metadata": {},
   "source": [
    "# Double neighbor\n",
    "The most important question for the CA simulator: given 2 cells, find their common neighbors."
   ]
  },
  {
   "cell_type": "markdown",
   "metadata": {},
   "source": [
    "Let the translation vector between cells is $p$. Then the answer is given by integer solution of the intersection of 2 equal conics, one is central, second is translated by $p$:\n",
    "$$\\begin{cases} x^TAx = c \\\\\n",
    "                (x-p)^TA(x-p) = c\n",
    "  \\end{cases}$$\n",
    " \n",
    "Expand 2nd\n",
    "\n",
    "$$ x^TAx -2p^TAx+p^TAp = c  $$\n",
    "$$ 2p^TAx=p^TAp $$\n",
    "\n",
    "therefore \n",
    "$$x = \\frac12 p + tq$$\n",
    "\n",
    "where $p^TAq=0$. The latter means that $q \\perp Ap$, and also $Aq \\perp p$\n",
    "\n"
   ]
  },
  {
   "cell_type": "markdown",
   "metadata": {},
   "source": [
    "substituting into 1st:\n",
    "\n",
    "$$ (\\frac12 p+tq)'A(1/2p+tq) = c$$\n",
    "$$ \\frac14 p'Ap + t p'Aq + t^2 q'Aq = c$$\n",
    "\n",
    "Since $p'Aq=0$, this gives\n",
    "$$ \\frac14 p'Ap + t^2 q'Aq = c$$"
   ]
  },
  {
   "cell_type": "markdown",
   "metadata": {},
   "source": [
    "thus,\n",
    "$$t = \\sqrt{ \\frac{c-\\frac14p'Ap}{q'Aq} }$$"
   ]
  },
  {
   "cell_type": "markdown",
   "metadata": {},
   "source": [
    "therefore\n",
    "$$ x =  \\frac12 p \\pm q\\sqrt{ \\frac{c-\\frac14p'Ap}{q'Aq} }$$"
   ]
  },
  {
   "cell_type": "markdown",
   "metadata": {},
   "source": [
    "In 2d case, $q = RAp$ or $A^{-1}Rp$, where \n",
    "$$R=\\left( \\begin{matrix} 0 & -1 \\\\ 1 & 0  \\end{matrix} \\right)$$\n",
    "\n",
    "THus $q'Aq = p'AR'ARAp$ or $q'Aq = p'R'A^{-1}Rp$\n"
   ]
  },
  {
   "cell_type": "markdown",
   "metadata": {},
   "source": [
    "Let's check whether $RA$ is reallly proportional to $A^{-1}R$..."
   ]
  },
  {
   "cell_type": "code",
   "execution_count": 6,
   "metadata": {},
   "outputs": [
    {
     "name": "stdout",
     "output_type": "stream",
     "text": [
      "[[-1 -3]\n",
      " [ 2  1]]\n",
      "[[-1. -3.]\n",
      " [ 2.  1.]]\n"
     ]
    }
   ],
   "source": [
    "a=np.array([[2,1],[1,3]])\n",
    "r=np.array([[0,-1],[1,0]])\n",
    "\n",
    "print(r.dot(a))\n",
    "print(np.linalg.inv(a).dot(r) * np.linalg.det(a))"
   ]
  },
  {
   "cell_type": "markdown",
   "metadata": {},
   "source": [
    "Yes, this seems to be right. Numeric check confirms. that\n",
    "\n",
    "$$RA = \\det(A) A^{-1}R = A^+R$$"
   ]
  },
  {
   "cell_type": "markdown",
   "metadata": {},
   "source": [
    "From now on, use $q=RAp = \\det(A)A^{-1}Rp$"
   ]
  },
  {
   "cell_type": "markdown",
   "metadata": {},
   "source": [
    "Thus, $ p'AR'ARAp = \\det(A) p'AR'A A^{-1}Rp = \\det(A) p'Ap$"
   ]
  },
  {
   "cell_type": "markdown",
   "metadata": {},
   "source": [
    "Therefore, \n",
    "$$q'Aq = \\det(A)p'Ap$$"
   ]
  },
  {
   "cell_type": "markdown",
   "metadata": {},
   "source": [
    "Thus,\n",
    "$$ x =  \\frac12 p \\pm \\frac12 q\\sqrt{ \\frac{4c-p'Ap}{\\det(A)p'Ap} }$$\n",
    "or, substituting $q$, finally obtaining\n",
    "\n",
    "$$ x =  \\frac12 p \\pm \\frac12 RAp\\sqrt{ \\frac{4c-p'Ap}{\\det(A)p'Ap} }$$"
   ]
  },
  {
   "cell_type": "code",
   "execution_count": 10,
   "metadata": {},
   "outputs": [],
   "source": [
    "#test code\n",
    "import math\n",
    "def intersection(a, p, c):\n",
    "    p=np.array(p)\n",
    "    pap = p.dot(a).dot(p)\n",
    "    if pap == 0:\n",
    "        return None\n",
    "    da = np.linalg.det(a)\n",
    "    ra=np.dot([[0,-1],[1,0]], a)\n",
    "    print(f\"pap={pap}, |a|={da}\")\n",
    "    D = (4*c-pap)/(da*pap)\n",
    "    if D >= 0:\n",
    "        Q = math.sqrt(D)\n",
    "        x1 = 0.5*p + 0.5*Q*ra.dot(p)\n",
    "        x2 = 0.5*p - 0.5*Q*ra.dot(p)\n",
    "        return x1,x2\n"
   ]
  },
  {
   "cell_type": "code",
   "execution_count": 11,
   "metadata": {},
   "outputs": [
    {
     "name": "stdout",
     "output_type": "stream",
     "text": [
      "pap=10, |a|=-5.000000000000001\n"
     ]
    },
    {
     "data": {
      "text/plain": [
       "(array([2., 1.]), array([1.00000000e+00, 5.55111512e-17]))"
      ]
     },
     "execution_count": 11,
     "metadata": {},
     "output_type": "execute_result"
    }
   ],
   "source": [
    "intersection([[2,-1],[-1,-2]], [3,1], 2)"
   ]
  },
  {
   "cell_type": "code",
   "execution_count": 8,
   "metadata": {
    "collapsed": true
   },
   "outputs": [],
   "source": [
    "from math import gcd\n",
    "from libeuler import numtheor as nt\n",
    "\n",
    "def int_intersection(a, p, c):\n",
    "    p=np.array(p, dtype=np.int64)\n",
    "    pap = int(p.dot(a).dot(p))\n",
    "    if pap == 0:\n",
    "        return None\n",
    "    da = int(np.linalg.det(a))\n",
    "    ra=np.dot([[0,-1],[1,0]], a).astype(np.int64)\n",
    "    print(f\"pap={pap}, |a|={da}\")\n",
    "    Dnum = 4*c-pap\n",
    "    Dden = da*pap\n",
    "    print(\"num, den:\",(Dnum, Dden))\n",
    "    g = gcd(Dnum, Dden)\n",
    "    Dnum /= g\n",
    "    Dden /= g\n",
    "    if Dden < 0:\n",
    "        Dnum = -Dnum\n",
    "        Dden = -Dden\n",
    "    \n",
    "    if Dnum >= 0:\n",
    "        qnum = nt.sqrti(Dnum)\n",
    "        if qnum*qnum != Dnum:\n",
    "            #not a full square\n",
    "            return None\n",
    "        qden = nt.sqrti(Dden)\n",
    "        if qden*qden != Dden:\n",
    "            #not a fu;ll square again\n",
    "            return None\n",
    "        \n",
    "        rapx, rapy = (qnum*ra.dot(p)).astype(np.int64)\n",
    "        rapx1, m = divmod(rapx, qden)\n",
    "        if m != 0: return None\n",
    "        rapy1, m = divmod(rapy, qden)\n",
    "        if m != 0: return None\n",
    "        \n",
    "        twox1 = p + [rapx1, rapy1]\n",
    "        twox2 = p - [rapx1, rapy1]\n",
    "        if twox1[0] %2 != 0 or twox1[1]%2 != 0:\n",
    "            return None\n",
    "        return twox1 // 2, twox2 // 2"
   ]
  },
  {
   "cell_type": "code",
   "execution_count": 10,
   "metadata": {},
   "outputs": [
    {
     "name": "stdout",
     "output_type": "stream",
     "text": [
      "Neighbors: [34 21] [ 5 -8]\n",
      "(array([ 34.,  21.]), array([ 5., -8.]))\n",
      "pap=1690, |a|=-5\n",
      "num, den: (-1682, -8450)\n",
      "(array([ 34.,  21.]), array([ 5., -8.]))\n"
     ]
    }
   ],
   "source": [
    "m = np.array([[2,1],[1,1]], dtype=np.int64)\n",
    "a = tfm2qform(m).astype(np.int64)\n",
    "\n",
    "c = np.dot([1,0],a).dot([1,0]).astype(np.int64)\n",
    "\n",
    "#make neighbor\n",
    "\n",
    "n1 = np.linalg.matrix_power(m,4).dot([1,0]).astype(np.int64)\n",
    "n2 = np.linalg.matrix_power(m,-3).dot([1,0]).astype(np.int64)\n",
    "\n",
    "print(\"Neighbors:\", n1, n2)\n",
    "print(intersection(a,n1+n2,c))\n",
    "print(int_intersection(a,n1+n2,c))\n"
   ]
  },
  {
   "cell_type": "code",
   "execution_count": 11,
   "metadata": {},
   "outputs": [
    {
     "name": "stdout",
     "output_type": "stream",
     "text": [
      "pap=-6250, |a|=-5\n",
      "num, den: (6258, 31250)\n",
      "None\n"
     ]
    }
   ],
   "source": [
    "print(int_intersection(a,np.array([-100, -75]),c))"
   ]
  },
  {
   "cell_type": "code",
   "execution_count": null,
   "metadata": {
    "collapsed": true
   },
   "outputs": [],
   "source": [
    "#Plotting order 2 neighbors\n",
    "def plot_order_2_neighbors(n, a, c):\n",
    "    ptx = []\n",
    "    pty = []\n",
    "    for x in range(-n,n+1):\n",
    "        for y in range(-n,n+1):\n",
    "            if int_intersection(a,np.array([x,y], dtype=np.int64),c) is not None:\n",
    "                ptx.append(x)\n",
    "                pty.append(y)\n",
    "    plt.plot(ptx,pty, \"ro\")\n",
    "    "
   ]
  },
  {
   "cell_type": "code",
   "execution_count": null,
   "metadata": {
    "collapsed": true
   },
   "outputs": [],
   "source": [
    "plot_order_2_neighbors(30, a, c)\n",
    "plt.show()"
   ]
  },
  {
   "cell_type": "code",
   "execution_count": 11,
   "metadata": {
    "collapsed": true
   },
   "outputs": [],
   "source": [
    "#approximate neighbor order\n",
    "def plot_approx_neighbor_order(n, nbig, m, x0, max_points, max_order):\n",
    "    a = tfm2qform(m)\n",
    "    \n",
    "    #prepare neighbor offsets\n",
    "    invm = np.linalg.inv(m).astype(np.int64)\n",
    "    def make_offsets(mtx):\n",
    "        ofs = []\n",
    "        x = x0\n",
    "        while True:\n",
    "            x = mtx.dot(x)\n",
    "            if np.max(np.abs(x))<nbig*2:\n",
    "                ofs.append(x)\n",
    "            else:\n",
    "                break\n",
    "        return ofs\n",
    "    offsets = make_offsets(m)[::-1]+[x0]+make_offsets(invm)\n",
    "    print(f\"Prepared {len(offsets)} neighbor offsets in range +-{2*nbig}\")\n",
    "    \n",
    "    orig = (0,0)\n",
    "    orders = np.zeros((2*n+1,2*n+1),dtype=np.int16)\n",
    "    orders -= 1\n",
    "    \n",
    "    norders = [orders.shape[0]*orders.shape[1]]\n",
    "    \n",
    "    def putpixel(x,y,v):\n",
    "        orders[x+n, y+n]=v\n",
    "        norders[0] -= 1\n",
    "        \n",
    "    putpixel(0,0,0)\n",
    "        \n",
    "    visited = set((orig,))\n",
    "    order2neighbors = {0: [orig]}\n",
    "    \n",
    "    def try_neighbor(order, x,y):\n",
    "        if abs(x)>nbig or abs(y)>nbig:\n",
    "            return\n",
    "        k = (x,y)\n",
    "        if k in visited:\n",
    "            return\n",
    "        visited.add(k)\n",
    "        if -n <= x <= n and -n <=y <= n:\n",
    "            putpixel(x,y,order)\n",
    "        order2neighbors[order].append(k)\n",
    "    order = 0 #current order\n",
    "    while True:\n",
    "        order1 = order + 1\n",
    "        order2neighbors[order1] = []\n",
    "        for nx, ny in order2neighbors[order]:\n",
    "            for dx, dy in offsets:\n",
    "                try_neighbor(order1, nx+dx,ny+dy)\n",
    "                try_neighbor(order1, nx-dx,ny-dy)\n",
    "        order = order1\n",
    "        print(f\"COmpleted order {order}, has {len(order2neighbors[order-1])} points\")\n",
    "        total = sum(len(ns) for ns in order2neighbors.values())\n",
    "        if total > max_points:\n",
    "            print(\"Maximal number of points reached\")\n",
    "            break\n",
    "        if order > max_order:\n",
    "            print(f\"Reached max order {max_order}\")\n",
    "            break\n",
    "        if norders[0] == 0:\n",
    "            print(f\"Filled all points in the desired area, exiting\")\n",
    "            break\n",
    "    \n",
    "    del order2neighbors\n",
    "    del visited\n",
    "    xx = np.array(range(-n,n+1))\n",
    "    plt.matshow(orders, extent=[-n,n,-n,n], cmap=plt.cm.Spectral)\n"
   ]
  },
  {
   "cell_type": "code",
   "execution_count": 13,
   "metadata": {
    "scrolled": true
   },
   "outputs": [
    {
     "name": "stdout",
     "output_type": "stream",
     "text": [
      "Prepared 19 neighbor offsets in range +-6000\n",
      "COmpleted order 1, has 1 points\n",
      "Total points: 37\n",
      "COmpleted order 2, has 36 points\n",
      "Total points: 677\n",
      "COmpleted order 3, has 640 points\n",
      "Total points: 7937\n",
      "COmpleted order 4, has 7260 points\n",
      "Total points: 65521\n",
      "COmpleted order 5, has 57584 points\n",
      "Total points: 396763\n",
      "COmpleted order 6, has 331242 points\n",
      "Total points: 1787909\n",
      "Filled all points in the desired area, exiting\n"
     ]
    },
    {
     "data": {
      "image/png": "[encoded data removed]",
      "text/plain": [
       "<matplotlib.figure.Figure at 0x5ff21f0>"
      ]
     },
     "metadata": {},
     "output_type": "display_data"
    }
   ],
   "source": [
    "#def plot_approx_neighbor_order(n, nbig, m, x0, max_points, max_order):\n",
    "\n",
    "plot_approx_neighbor_order(20, 3000, m=m, x0=[1,0], max_points=4000000, max_order=11)\n",
    "plt.colorbar()\n",
    "plt.show()"
   ]
  },
  {
   "cell_type": "code",
   "execution_count": null,
   "metadata": {
    "collapsed": true
   },
   "outputs": [],
   "source": []
  },
  {
   "cell_type": "markdown",
   "metadata": {},
   "source": [
    "### How 2 hyperbolas can be non-intersecting"
   ]
  },
  {
   "attachments": {
    "Grids-nonintersecting-hyperbolas.svg": {
     "image/svg+xml": [
      "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"
     ]
    }
   },
   "cell_type": "markdown",
   "metadata": {},
   "source": [
    "![Grids-nonintersecting-hyperbolas.svg](attachment:Grids-nonintersecting-hyperbolas.svg)"
   ]
  },
  {
   "cell_type": "code",
   "execution_count": 10,
   "metadata": {
    "collapsed": true
   },
   "outputs": [],
   "source": [
    "def plot_no_intersection(a, c, xmax=40):\n",
    "    xs = []\n",
    "    ys = []\n",
    "    for x in np.linspace(-xmax, xmax+1,100):\n",
    "        for y in np.linspace(-xmax, xmax+1, 100):\n",
    "            if intersection(a, [x,y], c) is None:\n",
    "                xs.append(x)\n",
    "                ys.append(y)\n",
    "    plt.plot(xs,ys,\"r.\")"
   ]
  },
  {
   "cell_type": "markdown",
   "metadata": {},
   "source": [
    "### Points that can not be decomposed as sum of 2 order-1 neighbors"
   ]
  },
  {
   "cell_type": "code",
   "execution_count": 11,
   "metadata": {},
   "outputs": [
    {
     "data": {
      "image/png": "[encoded data removed]",
      "text/plain": [
       "<matplotlib.figure.Figure at 0x7fbde1983da0>"
      ]
     },
     "metadata": {},
     "output_type": "display_data"
    }
   ],
   "source": [
    "plot_no_intersection(a, c, 10)\n",
    "plt.show()"
   ]
  },
  {
   "cell_type": "markdown",
   "metadata": {},
   "source": [
    "## Intersection os non-equal hyperbolas\n",
    "What is 2 hyperbolas have different constant term?\n",
    "\n",
    "$$\\begin{cases} x'Ax = c_1 \\\\\n",
    "                (x-p)'A(x-p) = c_2\n",
    "  \\end{cases}$$\n",
    " \n",
    "Expand 2nd\n",
    "\n",
    "$$ x'Ax - 2p'Ax + p'Ap = c_2  $$\n",
    "$$ 2p'Ax = c_2-c_1 + p'Ap $$\n",
    "$$ p'Ax = \\frac{\\Delta c}2 + \\frac12 p'Ap$$\n",
    "\n",
    "Decompose $s$ as sum of 2 vectors: $p, q$, where $q \\perp Ap$\n",
    "\n",
    "$$x = w p + t q$$\n",
    "\n",
    "and substitute:\n",
    "\n",
    "$$w p'Ap = \\frac{\\Delta c}2 + \\frac12 p'Ap$$"
   ]
  },
  {
   "cell_type": "markdown",
   "metadata": {},
   "source": [
    "## Intersection os non-equal hyperbolas\n",
    "What is 2 hyperbolas have different constant term?\n",
    "\n",
    "$$\\begin{cases} x'Ax = c_1 \\\\\n",
    "                (x-p)'A(x-p) = c_2\n",
    "  \\end{cases}$$\n",
    " \n",
    "Expand 2nd\n",
    "\n",
    "$$ x'Ax - 2p'Ax + p'Ap = c_2  $$\n",
    "$$ 2p'Ax = c_1-c_2 + p'Ap $$\n",
    "$$ p'Ax = \\frac{\\Delta c}2 + \\frac12 p'Ap$$\n",
    "\n",
    "Decompose $s$ as sum of 2 vectors: $p, q$, where $q \\perp Ap$, $q=ARp$\n",
    "\n",
    "In this case, $q'Aq = \\det(A)p'Ap$\n",
    "\n",
    "$$x = w p + t q$$\n",
    "\n",
    "and substitute:\n",
    "\n",
    "$$w p'Ap = \\frac{\\Delta c}2 + \\frac12 p'Ap$$\n",
    "$$w = \\frac{\\Delta c + p'Ap}{2 p'Ap} = \\frac12 + \\frac{\\Delta c}{2 p'Ap}  $$\n",
    "\n",
    "and $t$ is any.\n"
   ]
  },
  {
   "cell_type": "code",
   "execution_count": 97,
   "metadata": {},
   "outputs": [
    {
     "data": {
      "text/latex": [
       "$$\\frac{1}{2 pap} \\left(c_{1} - c_{2} + pap\\right)$$"
      ],
      "text/plain": [
       "c₁ - c₂ + pap\n",
       "─────────────\n",
       "    2⋅pap    "
      ]
     },
     "execution_count": 97,
     "metadata": {},
     "output_type": "execute_result"
    }
   ],
   "source": [
    "import sympy as sp\n",
    "import sympy.abc as abc\n",
    "sp.init_printing(use_latex=\"mathjax\")\n",
    "w, t = abc.w, abc.t\n",
    "pap = sp.Symbol('pap')\n",
    "c1, c2 = map(sp.Symbol, ('c1','c2'))\n",
    "dc = c1-c2\n",
    "w0 = sp.solve(w*pap -(dc/2 + pap/2), w)[0]\n",
    "w0"
   ]
  },
  {
   "cell_type": "code",
   "execution_count": 98,
   "metadata": {},
   "outputs": [
    {
     "data": {
      "text/latex": [
       "$$\\left [ \\frac{1}{2 pap} \\sqrt{\\frac{1}{da} \\left(- c_{1}^{2} + 2 c_{1} c_{2} + 2 c_{1} pap - c_{2}^{2} + 2 c_{2} pap - pap^{2}\\right)}, \\quad - \\frac{1}{2 pap} \\sqrt{- \\frac{1}{da} \\left(c_{1}^{2} - 2 c_{1} c_{2} - 2 c_{1} pap + c_{2}^{2} - 2 c_{2} pap + pap^{2}\\right)}\\right ]$$"
      ],
      "text/plain": [
       "⎡     ____________________________________________________        ____________\n",
       "⎢    ╱     2                          2                 2        ╱  ⎛  2      \n",
       "⎢   ╱  - c₁  + 2⋅c₁⋅c₂ + 2⋅c₁⋅pap - c₂  + 2⋅c₂⋅pap - pap        ╱  -⎝c₁  - 2⋅c\n",
       "⎢  ╱   ──────────────────────────────────────────────────   -  ╱   ───────────\n",
       "⎢╲╱                            da                            ╲╱               \n",
       "⎢─────────────────────────────────────────────────────────, ──────────────────\n",
       "⎣                          2⋅pap                                              \n",
       "\n",
       "__________________________________________ ⎤\n",
       "                    2                 2⎞   ⎥\n",
       "₁⋅c₂ - 2⋅c₁⋅pap + c₂  - 2⋅c₂⋅pap + pap ⎠   ⎥\n",
       "─────────────────────────────────────────  ⎥\n",
       "              da                           ⎥\n",
       "───────────────────────────────────────────⎥\n",
       "          2⋅pap                            ⎦"
      ]
     },
     "execution_count": 98,
     "metadata": {},
     "output_type": "execute_result"
    }
   ],
   "source": [
    "da = sp.Symbol(\"da\")\n",
    "sols_t = sp.solve(w0**2*pap + t**2*da*pap - c1, t)\n",
    "sols_t"
   ]
  },
  {
   "cell_type": "code",
   "execution_count": 99,
   "metadata": {},
   "outputs": [
    {
     "data": {
      "text/latex": [
       "$$\\frac{p}{2 pap} \\left(c_{1} - c_{2} + pap\\right) + \\frac{q}{2 pap} \\sqrt{\\frac{1}{da} \\left(- c_{1}^{2} + 2 c_{1} c_{2} + 2 c_{1} pap - c_{2}^{2} + 2 c_{2} pap - pap^{2}\\right)}$$"
      ],
      "text/plain": [
       "                           ___________________________________________________\n",
       "                          ╱     2                          2                 2\n",
       "                         ╱  - c₁  + 2⋅c₁⋅c₂ + 2⋅c₁⋅pap - c₂  + 2⋅c₂⋅pap - pap \n",
       "                    q⋅  ╱   ──────────────────────────────────────────────────\n",
       "p⋅(c₁ - c₂ + pap)     ╲╱                            da                        \n",
       "───────────────── + ──────────────────────────────────────────────────────────\n",
       "      2⋅pap                                    2⋅pap                          \n",
       "\n",
       "_\n",
       " \n",
       " \n",
       " \n",
       " \n",
       "─\n",
       " "
      ]
     },
     "execution_count": 99,
     "metadata": {},
     "output_type": "execute_result"
    }
   ],
   "source": [
    "t0 = sols_t[0]\n",
    "p, q = map(sp.Symbol, ('p', 'q'))\n",
    "w0*p + t0*q\n"
   ]
  },
  {
   "cell_type": "markdown",
   "metadata": {},
   "source": [
    "Ok, this is way more clean expresstion\n",
    "$$\\frac{\n",
    "    p(c_1-c_2 + pap) + q\\sqrt{\n",
    "        \\frac1{da}\\left(-(c_1-c_2)^2+2(c_1+c_2)pap - pap^2\\right)\n",
    "    }\n",
    "  }{\n",
    "    2 pap\n",
    "  }$$"
   ]
  },
  {
   "cell_type": "markdown",
   "metadata": {},
   "source": [
    "$$\\frac{\n",
    "    p(c_1-c_2 + pap) + q\\sqrt{\n",
    "        -\\frac1{da}\\left((pap-c_1-c_2)^2-4c_1c_2\\right)\n",
    "    }\n",
    "  }{\n",
    "    2 pap\n",
    "  }$$"
   ]
  },
  {
   "cell_type": "code",
   "execution_count": 112,
   "metadata": {},
   "outputs": [
    {
     "data": {
      "text/latex": [
       "$$-5.0$$"
      ],
      "text/plain": [
       "-5.0"
      ]
     },
     "execution_count": 112,
     "metadata": {},
     "output_type": "execute_result"
    }
   ],
   "source": [
    "#Determinant of A is:\n",
    "np.linalg.det(a)"
   ]
  },
  {
   "cell_type": "markdown",
   "metadata": {},
   "source": [
    "Thus, it is negative, and should always be. Therefore, expression under the square root is positive for most values.\n",
    "\n",
    "FOr large $p'Ap$, root, when it exists, is equal to $ceil \\left|\\frac{pap-c_1-c_2}{\\sqrt{\\det(A)}}\\right|$"
   ]
  },
  {
   "cell_type": "markdown",
   "metadata": {},
   "source": [
    "## Show cell neighbors"
   ]
  },
  {
   "cell_type": "code",
   "execution_count": 12,
   "metadata": {},
   "outputs": [
    {
     "data": {
      "image/png": "[encoded data removed]",
      "text/plain": [
       "<matplotlib.figure.Figure at 0x7fbe0982d9e8>"
      ]
     },
     "metadata": {},
     "output_type": "display_data"
    }
   ],
   "source": [
    "m = np.array([[2,1],[1,1]])\n",
    "def plot_neighbors(n0,xmax=10):\n",
    "    im = np.linalg.inv(m)\n",
    "    xy = n0\n",
    "    def powers(m):\n",
    "        xy = n0\n",
    "        points = []\n",
    "        while np.max(np.abs(xy)) < xmax:\n",
    "            xy = m.dot(xy)\n",
    "            points.append(xy)\n",
    "        return points\n",
    "    points = np.stack(powers(im) + [n0] + powers(m))\n",
    "    plt.plot(points[:,0], points[:,1], \"rx\")\n",
    "\n",
    "plot_neighbors([1,0])\n",
    "plot_neighbors([-1,0])\n",
    "plt.plot([0],[0],'bo')\n",
    "plt.show()\n",
    "    "
   ]
  },
  {
   "cell_type": "markdown",
   "metadata": {},
   "source": [
    "## Find cell with integer coordinates and minimal distance to the origin"
   ]
  },
  {
   "cell_type": "code",
   "execution_count": 13,
   "metadata": {},
   "outputs": [
    {
     "name": "stdout",
     "output_type": "stream",
     "text": [
      "A matrix is\n",
      "[[ 2 -1]\n",
      " [-1 -2]]\n",
      "Minimal pseudo-distance is 2, achieved for points:\n",
      "  [-1  0]\n",
      "  [ 0 -1]\n",
      "  [0 1]\n",
      "  [1 0]\n"
     ]
    }
   ],
   "source": [
    "def mindist(a):\n",
    "    \"\"\"find integer of the minimal pseudo-distance, minimizing\n",
    "    x'ax\n",
    "    \"\"\"\n",
    "    dmin = None\n",
    "    pmin = []\n",
    "    for x in range(-10,10):\n",
    "        for y in range(-10,10):\n",
    "            if not (x or y): continue\n",
    "            p = np.array([x,y])\n",
    "            d = int(abs(p.dot(a).dot(p)))\n",
    "            dd = (d, abs(x)+abs(y)) #search for points that have simplest coordinates\n",
    "            if (dmin is None) or (dd < dmin):\n",
    "                dmin = dd\n",
    "                pmin = [p]\n",
    "            elif dd == dmin:\n",
    "                pmin.append(p)\n",
    "    return pmin, dmin[0]\n",
    "\n",
    "a = tfm2qform([[2,1],[1,1]])\n",
    "points, dmin = mindist(a)\n",
    "print(\"A matrix is\")\n",
    "print(a)\n",
    "print(f\"Minimal pseudo-distance is {dmin}, achieved for points:\")\n",
    "for p in points:\n",
    "    print(f\"  {p}\")"
   ]
  },
  {
   "cell_type": "markdown",
   "metadata": {},
   "source": [
    "# Rewrite systems for minkovsky grids"
   ]
  },
  {
   "cell_type": "markdown",
   "metadata": {},
   "source": [
    "Consider group with 2 generators:\n",
    "\n",
    "* $r$ : hyperbolic rotation\n",
    "* $t$ : grid translation by 1\n",
    "\n",
    "Matrix representations:"
   ]
  },
  {
   "cell_type": "code",
   "execution_count": 42,
   "metadata": {
    "collapsed": true
   },
   "outputs": [],
   "source": [
    "r = np.array([[2,1,0],[1,1,0],[0,0,1]])\n",
    "t = np.array([[1,0,1],[0,1,0],[0,0,1]])\n",
    "R = np.linalg.inv(r).astype(np.int)\n",
    "T = np.linalg.inv(t).astype(np.int)\n",
    "\n",
    "def dots(*mts):\n",
    "    m = mts[0]\n",
    "    for mi in mts[1:]:\n",
    "        m = m.dot(mi)\n",
    "    return m"
   ]
  },
  {
   "cell_type": "markdown",
   "metadata": {},
   "source": [
    "Then $rtRRtr = ttt$\n",
    "\n",
    "This is analog of zig-zag way, which is shorter than the straight line."
   ]
  },
  {
   "cell_type": "code",
   "execution_count": 49,
   "metadata": {},
   "outputs": [
    {
     "data": {
      "text/plain": [
       "array([[1, 0, 3],\n",
       "       [0, 1, 0],\n",
       "       [0, 0, 1]])"
      ]
     },
     "execution_count": 49,
     "metadata": {},
     "output_type": "execute_result"
    }
   ],
   "source": [
    "#Checking this:\n",
    "dots(r,t,R,R,t,r)"
   ]
  },
  {
   "cell_type": "code",
   "execution_count": 24,
   "metadata": {},
   "outputs": [
    {
     "data": {
      "text/plain": [
       "array([2, 1, 1])"
      ]
     },
     "execution_count": 24,
     "metadata": {},
     "output_type": "execute_result"
    }
   ],
   "source": [
    "r.dot([1,0,1])"
   ]
  },
  {
   "cell_type": "code",
   "execution_count": 29,
   "metadata": {},
   "outputs": [
    {
     "data": {
      "text/plain": [
       "array([ 1, -1,  1])"
      ]
     },
     "execution_count": 29,
     "metadata": {},
     "output_type": "execute_result"
    }
   ],
   "source": [
    "R.dot([1,0,1])"
   ]
  },
  {
   "cell_type": "markdown",
   "metadata": {},
   "source": [
    "Translation up, by (0,1) is given by $RTrt$:"
   ]
  },
  {
   "cell_type": "code",
   "execution_count": 47,
   "metadata": {},
   "outputs": [
    {
     "data": {
      "text/plain": [
       "array([[1, 0, 0],\n",
       "       [0, 1, 1],\n",
       "       [0, 0, 1]])"
      ]
     },
     "execution_count": 47,
     "metadata": {},
     "output_type": "execute_result"
    }
   ],
   "source": [
    "dots(R,T,r,t)"
   ]
  },
  {
   "cell_type": "markdown",
   "metadata": {},
   "source": [
    "And generally, by (0,n) is $RT^nrt^n$:"
   ]
  },
  {
   "cell_type": "code",
   "execution_count": 48,
   "metadata": {},
   "outputs": [
    {
     "data": {
      "text/plain": [
       "array([[1, 0, 0],\n",
       "       [0, 1, 3],\n",
       "       [0, 0, 1]])"
      ]
     },
     "execution_count": 48,
     "metadata": {},
     "output_type": "execute_result"
    }
   ],
   "source": [
    "dots(R,T,T,T,r,t,t,t)"
   ]
  },
  {
   "cell_type": "markdown",
   "metadata": {},
   "source": [
    "Neighborhood order for a cell is, then, the minimal number T and t steps in the path to the cell.\n",
    "Is it possible to apply knuth-bendix algorhythm to make convergent rewrite system?\n",
    "\n",
    "Starting rules:\n",
    "\n",
    "* $rtRRtr = ttt$\n",
    "* $rR = Rr = Tt = tT = e$\n",
    "\n",
    "Experiments with my older knuth_bendix implementation in Python show no success though."
   ]
  },
  {
   "cell_type": "markdown",
   "metadata": {},
   "source": [
    "# Effective neighbor calculation algorhithm"
   ]
  },
  {
   "cell_type": "markdown",
   "metadata": {},
   "source": [
    "The algorhyths is not tested, but I am almost sure in it.\n",
    "\n",
    "Idea: **simplest paths**\n",
    "Assume that a lattice, with elementary skew $R$ is defined, and additionally, an *elementary translation* $T$ is defined (translation from the cell to the nearest neighbor. Usually, $T$ is translation by 1 cell. Then any larger translation can be obtained as superposition of transformations $R,R^{-1},T,T^{-1}$, called *path*. Two paths are equivalent if they describe the same transformation. Of all equivalent paths, **simplest paths** are the paths with minimal total number of $T,T^{-1}$ steps.\n",
    "\n",
    "For example, on the 2111 lattice, let $T$ is translation by $(1,0)$. Then paths $TTT$ and $RTR^{-2}TR$ are equivalent, of them the latter is simpler. It is one of the simplest paths for translation $(3,0)$ (another one is $R^{-1}TR^2R^{-1}$). "
   ]
  },
  {
   "cell_type": "markdown",
   "metadata": {},
   "source": [
    "Let's call the number of $T,T^{-1}$ steps in the simplest path **complexity** of the translation. Then neighbors are separated by translation of complexity 1. Order-2 neighbors have translation of complexity 2 etc.\n",
    "\n",
    "Translation complexity behaves as true metric, triangle inequality holds for it."
   ]
  },
  {
   "cell_type": "markdown",
   "metadata": {},
   "source": [
    "## Calculating translation complexity"
   ]
  },
  {
   "cell_type": "markdown",
   "metadata": {},
   "source": [
    "Any translation $X$ can be represented as superposition of powers of rotated elementary translations:\n",
    "\n",
    "$$X = ... (R^{-2} T^{a_{-2}} R^2) (R^{-1} T^{a_{-1}} R) T^{a_0}(R T^{a_1} R^{-1})(R^2 T^{a_2} R^{-2})... $$"
   ]
  },
  {
   "cell_type": "markdown",
   "metadata": {},
   "source": [
    "Where each power of $T$ present not more than once. Due to linear properties of translations, order can be arbitrary:\n",
    "\n",
    "$$ (R^aT^nR^{-a})(R^bT^mR^{-b}) = (R^bT^mR^{-b})(R^aT^nR^{-a}) $$"
   ]
  },
  {
   "cell_type": "markdown",
   "metadata": {},
   "source": []
  },
  {
   "cell_type": "markdown",
   "metadata": {},
   "source": [
    "Thus, any translation $X$ can be represented as a finite set of tuples $(n, a_n)$ for each nonzero $a_n$, or as a two-way infinite table of $a_n$ values with finite number of nonzero cells:\n",
    "\n",
    "$n$ : | ... | -2 | -1 | 0 | 1 | 2 | ... \n",
    "----|-----\n",
    "$a_n$ :| ...| ${a_{-2}}$ | ${a_{-1}}$ | ${a_0}$ | ${a_1}$ | ${a_2}$ | ...\n",
    "\n",
    "There are many equivalent representations for each translation. For example, the above equality says that transoation $(a_0=3)$ is equivalent to translation $(a_1=1)(a_{-1}=1)$.\n",
    "\n",
    "Complexity of translation is:\n",
    "$$C = \\sum_{i=-\\infty}^{\\infty}|a_i| $$"
   ]
  },
  {
   "cell_type": "markdown",
   "metadata": {},
   "source": [
    "Equivalent translations are given by the characteristic equation of the $R$ matrix:"
   ]
  },
  {
   "cell_type": "code",
   "execution_count": 4,
   "metadata": {},
   "outputs": [
    {
     "data": {
      "text/plain": [
       "array([ 1., -3.,  1.])"
      ]
     },
     "execution_count": 4,
     "metadata": {},
     "output_type": "execute_result"
    }
   ],
   "source": [
    "np.poly([[2,1],[1,1]])"
   ]
  },
  {
   "cell_type": "markdown",
   "metadata": {},
   "source": [
    "$$R^2-3R+R=0$$"
   ]
  },
  {
   "cell_type": "markdown",
   "metadata": {},
   "source": [
    "This means that adding $(k,-3k,k)$, where $k$ is any integer number, to any 3 consequent cells in the $a_i$ table does not change translation. Fro example, let's ensure that $(a_0,3) = (a_1=1, a_{_1}=1)$:"
   ]
  },
  {
   "cell_type": "markdown",
   "metadata": {},
   "source": [
    "\n",
    "$a_{-1}$ | $a_0$ | $a_1$\n",
    "----|---\n",
    "0 | 3 | 0\n",
    "+1 | -3 | +1\n",
    "*1* | *0* | *1*"
   ]
  },
  {
   "cell_type": "markdown",
   "metadata": {},
   "source": [
    "\n",
    "## Simplest path calculation"
   ]
  },
  {
   "cell_type": "markdown",
   "metadata": {},
   "source": [
    "[QUestion on math overflow](https://math.stackexchange.com/questions/2537017/how-to-find-the-simplest-form-of-integer-matrix-polynomial)\n",
    "\n",
    "THe most important idea: <s>**simple greedy algorhythm is enough to minimize complexity** . In other words: add $(k, -3k, k)$ triples to the table cells until it reduces $\\sum|a_i|$. This is true, because $C=\\sum |a_i|$ is a *convex function* of coefficients $k$.</s>\n",
    "\n",
    "Experiment shows that this **idea fails**. There are local minima, where the process can stuck. For example, for polynomial $(1,-3,1)$, path $(2,1,1,2)$ is irreducible, but can be reduced to $(1,0,0,0,0,1)$.\n",
    "\n",
    "This gives an effective way to calculate translation complexity and find common neighbors for 2 cells: if translation complexity is 2, then they have 2 common neighbors for each of the non-zero $a_i$.\n"
   ]
  },
  {
   "cell_type": "code",
   "execution_count": 18,
   "metadata": {
    "collapsed": true
   },
   "outputs": [],
   "source": [
    "def charpoly2(m):\n",
    "    #integer version of the 2x2 characteristic polynomial. starts from lower powers\n",
    "    (a,b),(c,d) = m\n",
    "    return [a*d-b*c, -a-d, 1]\n",
    "\n",
    "assert charpoly2([[2,1],[1,1]]) == [1,-3,1]\n",
    "\n",
    "def simplify_greedy(path, charpoly):\n",
    "    \"\"\"path: dict[int->int]. maps n to nonzero a_n. zeros are not in the map.\n",
    "    \"\"\"\n",
    "    path = path.copy()\n",
    "    def offsets(path):\n",
    "        visited = set()\n",
    "        for i in path.keys():\n",
    "            for di in range(-len(charpoly), 0):\n",
    "                i1 = i + di\n",
    "                if i1 not in visited:\n",
    "                    visited.add(i1)\n",
    "                    yield i1\n",
    "        \n",
    "    def sumabs(s): return sum(abs(xi) for xi in s)\n",
    "    \n",
    "    def minblock(blk):\n",
    "        ratios = [divmod(bi,pi) for bi, pi in zip(blk, charpoly) if pi!=0]\n",
    "        def corners():\n",
    "            for (r, rem) in ratios:\n",
    "                if rem == 0:\n",
    "                    yield r\n",
    "                else:\n",
    "                    yield r\n",
    "                    yield r+1\n",
    "                    \n",
    "        variants = [ [bi-rr*pi for bi, pi in zip(blk, charpoly)]\n",
    "                     for rr in set(corners())\n",
    "                   ]\n",
    "        return min(variants, key = sumabs)\n",
    "         \n",
    "    need_continue = True\n",
    "    while need_continue:\n",
    "        need_continue = False\n",
    "        for i0 in offsets(path):\n",
    "            block = [path.get(i0+i, 0) for i in range(len(charpoly))]\n",
    "            block1 = minblock(block)\n",
    "            if block1 == block:\n",
    "                #no minimization\n",
    "                continue\n",
    "            need_continue = True\n",
    "            #write block back\n",
    "            for i, new_bi in enumerate(block1):\n",
    "                if new_bi == 0:\n",
    "                    if (i0 + i) in path:\n",
    "                        del path[i0+i]\n",
    "                else:\n",
    "                    path[i0+i] = new_bi\n",
    "            break\n",
    "    return path \n"
   ]
  },
  {
   "cell_type": "code",
   "execution_count": 19,
   "metadata": {},
   "outputs": [
    {
     "data": {
      "text/plain": [
       "{-1: 1, 1: 1}"
      ]
     },
     "execution_count": 19,
     "metadata": {},
     "output_type": "execute_result"
    }
   ],
   "source": [
    "simplify_greedy({0:3}, [1,-3,1])"
   ]
  },
  {
   "cell_type": "code",
   "execution_count": 96,
   "metadata": {},
   "outputs": [
    {
     "data": {
      "text/plain": [
       "{-8: 1,\n",
       " -6: 2,\n",
       " -4: 2,\n",
       " -3: 2,\n",
       " -2: 2,\n",
       " -1: 1,\n",
       " 0: 2,\n",
       " 1: 1,\n",
       " 2: 2,\n",
       " 3: 2,\n",
       " 4: 2,\n",
       " 6: 2,\n",
       " 8: 1}"
      ]
     },
     "execution_count": 96,
     "metadata": {},
     "output_type": "execute_result"
    }
   ],
   "source": [
    "simplify_greedy({0:3000}, [1,-3,1])"
   ]
  },
  {
   "cell_type": "code",
   "execution_count": 20,
   "metadata": {
    "collapsed": true
   },
   "outputs": [],
   "source": [
    "def path2xy(path, m, t0=np.array([1,0], dtype=np.int64)):\n",
    "    xy = np.array([0,0], dtype=np.int64)\n",
    "    for power, translation in path.items():\n",
    "        mp = np.linalg.matrix_power(m,power).astype(np.int64).dot(t0)\n",
    "        xy += mp * int(translation)\n",
    "    return xy\n",
    "def xy2path(xy, m, t0=np.array([1,0], dtype=np.int64)):\n",
    "    mt0 = m.dot(t0)\n",
    "    tt=np.stack((t0, mt0)).T\n",
    "    itt = np.linalg.inv(tt)\n",
    "    #check that it is integer\n",
    "    if not (np.abs(itt - np.round(itt)) < 1e-5 ).all():\n",
    "        print(itt)\n",
    "        raise ValueError(\"Inverse transform is not integer, what to do?\")\n",
    "    itt = itt.astype(np.int64)\n",
    "    k0, k1 = itt.dot(xy)\n",
    "    p = {}\n",
    "    if k0 != 0: p[0]=k0\n",
    "    if k1 != 0: p[1]=k1\n",
    "    return p"
   ]
  },
  {
   "cell_type": "code",
   "execution_count": 22,
   "metadata": {},
   "outputs": [
    {
     "name": "stdout",
     "output_type": "stream",
     "text": [
      "XY original [15  5]\n",
      "Path: {0: 5, 1: 5} simple {0: 1, -1: 2, 2: 2, 1: 1}\n",
      "XY: [15  5] simplified: [15  5] p0: [15  5]\n"
     ]
    }
   ],
   "source": [
    "M = np.array([[2,1],[1,1]], dtype=np.int64)\n",
    "\n",
    "xy0 = np.linalg.matrix_power(M,3).dot([1,0]) + np.linalg.matrix_power(M,-2).dot([1,0])\n",
    "xy0 = xy0.astype(np.int64)\n",
    "print(\"XY original\", xy0)\n",
    "\n",
    "p = xy2path(xy0, M)\n",
    "mp = simplify_greedy(p, charpoly2(M))\n",
    "p0 = {3:1, -2:1}\n",
    "print(\"Path:\",p, \"simple\",mp)\n",
    "xy1 = path2xy(p, M)\n",
    "xy2 = path2xy(mp, M)\n",
    "xy01 = path2xy(p0, M)\n",
    "print(\"XY:\",xy1, \"simplified:\",xy2, \"p0:\", xy01)"
   ]
  },
  {
   "cell_type": "markdown",
   "metadata": {},
   "source": [
    "#### Greedy algorithm fails\n",
    "Simplest example: (5,5|).  simplifies to (2,1,1|,2), but simplest is (1,0,0,0|,0,1)"
   ]
  },
  {
   "cell_type": "markdown",
   "metadata": {},
   "source": [
    "### Plot how value depends on k"
   ]
  },
  {
   "cell_type": "code",
   "execution_count": 35,
   "metadata": {},
   "outputs": [
    {
     "data": {
      "image/png": "[encoded data removed]",
      "text/plain": [
       "<matplotlib.figure.Figure at 0x7f4f26df2ba8>"
      ]
     },
     "metadata": {},
     "output_type": "display_data"
    }
   ],
   "source": [
    "fun = np.vectorize(lambda x: sum(abs(bi-pi*x) for bi, pi in zip([0,10,0],[1,-3,1])))\n",
    "plt.plot(range(-5,5), fun(range(-5,5)), \"bo\", np.linspace(-5,5,100), fun(np.linspace(-5,5,100)), 'g.')\n",
    "plt.show()"
   ]
  },
  {
   "cell_type": "markdown",
   "metadata": {
    "collapsed": true
   },
   "source": [
    "### String rewrite approach (failed)\n",
    "\n",
    "Using greedy rewriter, it is alwayspossible to reduce string representation of the path to a string ov values in the range \\[-2..2\\] (higher values can always be reduced). This is true for other reducers, with n higher than 3.\n",
    "\n",
    "What could be done further? Let's make a rewrite table"
   ]
  },
  {
   "cell_type": "code",
   "execution_count": 98,
   "metadata": {
    "collapsed": true
   },
   "outputs": [],
   "source": [
    "def make_final_rewrite_table(n):\n",
    "    p = (1, -n, 1)\n",
    "    def weight(s): return sum(map(abs, s))\n",
    "    def add_p(s, k):\n",
    "        return tuple( si+k*pi for si,pi in zip(s, p) )\n",
    "    def rewrite(s):\n",
    "        return min((add_p(s,k) for k in range(-n,n+1)),\n",
    "                  key = weight)\n",
    "    table = {}\n",
    "    for a in range(-n+1,n):\n",
    "        for b in range(-n+1,n):\n",
    "            for c in range(-n+1,n):\n",
    "                s = (a,b,c)\n",
    "                rs = rewrite(s)\n",
    "                if rs!=s : \n",
    "                    table[s] = rs\n",
    "    return table"
   ]
  },
  {
   "cell_type": "code",
   "execution_count": 99,
   "metadata": {},
   "outputs": [
    {
     "data": {
      "text/plain": [
       "{(-2, -2, 1): (-3, 1, 0),\n",
       " (-2, -2, 2): (-3, 1, 1),\n",
       " (-2, 1, -2): (-1, -2, -1),\n",
       " (-2, 1, -1): (-1, -2, 0),\n",
       " (-2, 2, -2): (-1, -1, -1),\n",
       " (-2, 2, -1): (-1, -1, 0),\n",
       " (-2, 2, 0): (-1, -1, 1),\n",
       " (-2, 2, 1): (-1, -1, 2),\n",
       " (-2, 2, 2): (-1, -1, 3),\n",
       " (-1, -2, 1): (-2, 1, 0),\n",
       " (-1, -2, 2): (-2, 1, 1),\n",
       " (-1, 1, -2): (0, -2, -1),\n",
       " (-1, 1, -1): (0, -2, 0),\n",
       " (-1, 2, -2): (0, -1, -1),\n",
       " (-1, 2, -1): (0, -1, 0),\n",
       " (-1, 2, 0): (0, -1, 1),\n",
       " (-1, 2, 1): (0, -1, 2),\n",
       " (-1, 2, 2): (0, -1, 3),\n",
       " (0, -2, 1): (-1, 1, 0),\n",
       " (0, -2, 2): (-1, 1, 1),\n",
       " (0, 2, -2): (1, -1, -1),\n",
       " (0, 2, -1): (1, -1, 0),\n",
       " (1, -2, -2): (0, 1, -3),\n",
       " (1, -2, -1): (0, 1, -2),\n",
       " (1, -2, 0): (0, 1, -1),\n",
       " (1, -2, 1): (0, 1, 0),\n",
       " (1, -2, 2): (0, 1, 1),\n",
       " (1, -1, 1): (0, 2, 0),\n",
       " (1, -1, 2): (0, 2, 1),\n",
       " (1, 2, -2): (2, -1, -1),\n",
       " (1, 2, -1): (2, -1, 0),\n",
       " (2, -2, -2): (1, 1, -3),\n",
       " (2, -2, -1): (1, 1, -2),\n",
       " (2, -2, 0): (1, 1, -1),\n",
       " (2, -2, 1): (1, 1, 0),\n",
       " (2, -2, 2): (1, 1, 1),\n",
       " (2, -1, 1): (1, 2, 0),\n",
       " (2, -1, 2): (1, 2, 1),\n",
       " (2, 2, -2): (3, -1, -1),\n",
       " (2, 2, -1): (3, -1, 0)}"
      ]
     },
     "execution_count": 99,
     "metadata": {},
     "output_type": "execute_result"
    }
   ],
   "source": [
    "make_final_rewrite_table(3)"
   ]
  },
  {
   "cell_type": "markdown",
   "metadata": {},
   "source": [
    "Does not work... It produces 3s and any attempt to avoid them give infinite ruleset."
   ]
  },
  {
   "cell_type": "markdown",
   "metadata": {
    "collapsed": true
   },
   "source": [
    "### Another idea: \"pull and split\""
   ]
  },
  {
   "cell_type": "markdown",
   "metadata": {},
   "source": [
    "ANy value is represented as a pair of neighbor terms initially. Using the fact that (1,-3,1) pattern has 1s in the ends, it is possible to pull this nonzero pair to the left or to the right indefinitely:\n",
    "\n",
    "```\n",
    "0 0    0  5 5 0 0 0 0\n",
    "0 0   -5 20 0 0 0 0 0   #-5*(1 -3 1)\n",
    "0 -20 55  0 0 0 0 0 0\n",
    "```\n",
    "If initial pair is $(a,b)$, then pulled left it becomes $(-b, a+3b)$, and to the right: $(a+3b, -b)$. Thus, pulling is equivalent to multiplication by $\\left(\\begin{matrix}0&-1\\\\1&3\\end{matrix}\\right)$\n",
    "\n",
    "Eigenvalues of this matrix are the same as of M, since determinant is 1 and trace is 3.\n"
   ]
  },
  {
   "cell_type": "code",
   "execution_count": 14,
   "metadata": {},
   "outputs": [
    {
     "data": {
      "text/plain": [
       "array([-20,  55])"
      ]
     },
     "execution_count": 14,
     "metadata": {},
     "output_type": "execute_result"
    }
   ],
   "source": [
    "#Example:\n",
    "Left = np.array([[0,-1],[1,3]])\n",
    "Left.dot(Left.dot([5,5]))"
   ]
  },
  {
   "cell_type": "markdown",
   "metadata": {},
   "source": [
    "Using pull, it should be possible to find the local minimum of complexity.\n",
    "However, how to split the value?\n",
    "\n",
    "Let's try it.\n",
    "\n",
    "```\n",
    "0 0  0  0  5 5 0 0 0 0\n",
    "0 0 -5 15  0 5 0 0 0 0\n",
    "```\n",
    "Now we have 2 groups: -5,15 and 0,5. Hm, nothing good.\n",
    "```\n",
    "0 0  0  0  5  5 0 0 0 0\n",
    "0 0  0  2  -1 7 0 0 0 0\n",
    "0 0  0  2  1  1 2 0 0 0\n",
    "```\n",
    "here, (21) and (12) groups."
   ]
  },
  {
   "cell_type": "code",
   "execution_count": 11,
   "metadata": {},
   "outputs": [
    {
     "data": {
      "text/plain": [
       "array([-5, 14])"
      ]
     },
     "execution_count": 11,
     "metadata": {},
     "output_type": "execute_result"
    }
   ],
   "source": [
    "Left.dot(Left.dot([2,1]))"
   ]
  },
  {
   "cell_type": "markdown",
   "metadata": {},
   "source": [
    "Impossible to pull them... and what if added 1 -2 -2 1 to the center?\n",
    "```\n",
    "0 0  0  0  5  5 0 0 0 0\n",
    "0 0  0  2  1  1 2 0 0 0\n",
    "0 0  0  3 -1 -1 3 0 0 0\n",
    "```"
   ]
  },
  {
   "cell_type": "code",
   "execution_count": 16,
   "metadata": {},
   "outputs": [
    {
     "data": {
      "text/plain": [
       "array([1, 0])"
      ]
     },
     "execution_count": 16,
     "metadata": {},
     "output_type": "execute_result"
    }
   ],
   "source": [
    "Left.dot([3,-1])"
   ]
  },
  {
   "cell_type": "markdown",
   "metadata": {},
   "source": [
    "### Hmm, another idea: get rid of 2s\n",
    "Apply (1,-3,1) addition until there are no 2s. Should be possible?\n",
    "this would generate suboptimal rewrite for (2): (1,-1,1). However, such cases can be restored by post-processing.\n",
    "\n"
   ]
  },
  {
   "cell_type": "code",
   "execution_count": 63,
   "metadata": {
    "collapsed": true
   },
   "outputs": [],
   "source": [
    "def simplify_no2(path, charpoly):\n",
    "    \"\"\"path: dict[int->int]. maps n to nonzero a_n. zeros are not in the map.\n",
    "    \"\"\"\n",
    "    path = path.copy()\n",
    "            \n",
    "    def minblock(blk):\n",
    "        r, rem = divmod(blk[1], charpoly[1]) #by 3\n",
    "        if rem == 0:\n",
    "            corners = (r,)\n",
    "        else:\n",
    "            corners = (r, r+1)\n",
    "                    \n",
    "        variants = [ [bi-rr*pi for bi, pi in zip(blk, charpoly)]\n",
    "                     for rr in corners\n",
    "                   ]\n",
    "        return min(variants, key = lambda abc: abs(abc[1]))\n",
    "         \n",
    "    need_continue = True\n",
    "    while need_continue:\n",
    "        need_continue = False\n",
    "        for i0_, val in path.items():\n",
    "            if abs(abs(val)-abs(charpoly[1])) >= abs(val):\n",
    "                continue\n",
    "            i0 = i0_ - 1\n",
    "            \n",
    "            block = [path.get(i0+i, 0) for i in range(len(charpoly))]\n",
    "            block1 = minblock(block)\n",
    "            #print(f\"orig block {block}, rewrite to {block1}\")\n",
    "            if block1 == block:\n",
    "                #no minimization\n",
    "                continue\n",
    "            need_continue = True\n",
    "            #write block back\n",
    "            for i, new_bi in enumerate(block1):\n",
    "                if new_bi == 0:\n",
    "                    if (i0 + i) in path:\n",
    "                        del path[i0+i]\n",
    "                else:\n",
    "                    path[i0+i] = new_bi\n",
    "            break\n",
    "    return path "
   ]
  },
  {
   "cell_type": "markdown",
   "metadata": {},
   "source": [
    "Let's try it..."
   ]
  },
  {
   "cell_type": "code",
   "execution_count": 70,
   "metadata": {},
   "outputs": [
    {
     "name": "stdout",
     "output_type": "stream",
     "text": [
      "XY original [-4166  6770]\n",
      "Path: {0: -17706, 1: 6770} simple {4: 1, 2: -1, 1: -1, 3: -1, -1: -1, 0: -1, -10: -1, -3: 1, -2: -1}\n",
      "XY: [-4166  6770] simplified: [-4166  6770]\n"
     ]
    }
   ],
   "source": [
    "M = np.array([[2,1],[1,1]], dtype=np.int64)\n",
    "\n",
    "xy0 = np.linalg.matrix_power(M,3).dot([1,0]) - np.linalg.matrix_power(M,-10).dot([1,0]) + np.linalg.matrix_power(M,-2).dot([1,0])\n",
    "xy0 = xy0.astype(np.int64)\n",
    "print(\"XY original\", xy0)\n",
    "\n",
    "p = xy2path(xy0, M)\n",
    "mp = simplify_no2(p, charpoly2(M))\n",
    "print(\"Path:\",p, \"simple\",mp)\n",
    "xy1 = path2xy(p, M)\n",
    "xy2 = path2xy(mp, M)\n",
    "print(\"XY:\",xy1, \"simplified:\",xy2)"
   ]
  },
  {
   "cell_type": "markdown",
   "metadata": {},
   "source": [
    "Hmmm, it seems to be **working**!"
   ]
  },
  {
   "cell_type": "code",
   "execution_count": 71,
   "metadata": {},
   "outputs": [
    {
     "name": "stdout",
     "output_type": "stream",
     "text": [
      "{-3: -1, 3: -1, -7: 1, -5: 1, 5: 1, 7: 1, -1: -1, 1: -1, -4: 1, 4: 1, -2: 1, 0: 1, 2: 1}\n",
      "{-3: 2, 3: -1, -7: 1, -5: 1, 5: 1, 7: 1, -1: -1, 1: 2, 4: 1}\n"
     ]
    }
   ],
   "source": [
    "p = simplify_no2(xy2path([1000,0], M), charpoly2(M))\n",
    "print(p)\n",
    "pp = simplify_greedy(p, charpoly2(M))\n",
    "print(pp)"
   ]
  },
  {
   "cell_type": "code",
   "execution_count": 68,
   "metadata": {
    "collapsed": true
   },
   "outputs": [],
   "source": [
    "def simplify(p, cp):\n",
    "    return simplify_greedy(simplify_no2(p, cp),cp)"
   ]
  },
  {
   "cell_type": "markdown",
   "metadata": {},
   "source": [
    "No, **still failing**:"
   ]
  },
  {
   "cell_type": "code",
   "execution_count": 69,
   "metadata": {},
   "outputs": [
    {
     "name": "stdout",
     "output_type": "stream",
     "text": [
      "{0: -17706, 1: 6770}\n"
     ]
    },
    {
     "data": {
      "text/plain": [
       "{-10: -1, -3: 1, -2: -1, -1: -1, 0: -1, 1: -1, 2: -1, 3: -1, 4: 1}"
      ]
     },
     "execution_count": 69,
     "metadata": {},
     "output_type": "execute_result"
    }
   ],
   "source": [
    "p = xy2path([-4166,6770], M)\n",
    "print(p)\n",
    "simplify(p, charpoly2(M))"
   ]
  },
  {
   "cell_type": "markdown",
   "metadata": {},
   "source": [
    "# Newton method approach"
   ]
  },
  {
   "cell_type": "markdown",
   "metadata": {},
   "source": [
    "Consider equations system\n",
    "\n",
    "$m=((-2,1),(1,2))$\n",
    "\n",
    "$$\\begin{cases} -x^2+xy+y^2=1 \\\\ -(x-x_0)^2+(x-x_0)(y-y_0)+(y-y_0)^2=1 \\end{cases} $$"
   ]
  },
  {
   "cell_type": "markdown",
   "metadata": {},
   "source": [
    "maxima code \n",
    "```\n",
    "pd(x,y) := (-x^2+y^2+xy-1);\n",
    "\n",
    "e1 : pd(x,y);\n",
    "e2 : pd(x0-x, y0-y);\n",
    "\n",
    "J : matrix( [diff(e1,x), diff(e1,y)], [diff(e2,x), diff(e2,y)] );\n",
    "\n",
    "dj : determinant(J);\n",
    "\n",
    "IJ : ratsimp(invert(J) * dj);\n",
    "\n",
    "dv : ratsimp(- IJ . matrix([e1],[e2]) / dj);```"
   ]
  },
  {
   "cell_type": "markdown",
   "metadata": {},
   "source": [
    "Resutls are not very easy to use..."
   ]
  },
  {
   "cell_type": "code",
   "execution_count": null,
   "metadata": {
    "collapsed": true
   },
   "outputs": [],
   "source": []
  }
 ],
 "metadata": {
  "kernelspec": {
   "display_name": "Python 3",
   "language": "python",
   "name": "python3"
  },
  "language_info": {
   "codemirror_mode": {
    "name": "ipython",
    "version": 3
   },
   "file_extension": ".py",
   "mimetype": "text/x-python",
   "name": "python",
   "nbconvert_exporter": "python",
   "pygments_lexer": "ipython3",
   "version": "3.7.2"
  }
 },
 "nbformat": 4,
 "nbformat_minor": 2
}
